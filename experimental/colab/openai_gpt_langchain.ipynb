{
  "nbformat": 4,
  "nbformat_minor": 0,
  "metadata": {
    "colab": {
      "provenance": [],
      "authorship_tag": "ABX9TyObux6mvybc5WmZEDQh3GRt",
      "include_colab_link": true
    },
    "kernelspec": {
      "name": "python3",
      "display_name": "Python 3"
    },
    "language_info": {
      "name": "python"
    }
  },
  "cells": [
    {
      "cell_type": "markdown",
      "metadata": {
        "id": "view-in-github",
        "colab_type": "text"
      },
      "source": [
        "<a href=\"https://colab.research.google.com/github/henryouly/ESP8266-CAR/blob/master/experimental/colab/openai_gpt_langchain.ipynb\" target=\"_parent\"><img src=\"https://colab.research.google.com/assets/colab-badge.svg\" alt=\"Open In Colab\"/></a>"
      ]
    },
    {
      "cell_type": "markdown",
      "source": [
        "# Install Dependencies and Import Libraries 📚"
      ],
      "metadata": {
        "id": "e8MOmaUnkXAP"
      }
    },
    {
      "cell_type": "code",
      "execution_count": 44,
      "metadata": {
        "id": "QuPb9bE6XS9Q"
      },
      "outputs": [],
      "source": [
        "%%capture\n",
        "\n",
        "!pip install -q --upgrade openai langchain"
      ]
    },
    {
      "cell_type": "code",
      "source": [
        "import numpy as np\n",
        "import pandas as pd\n",
        "import matplotlib.pyplot as plt\n",
        "import openai\n",
        "import os\n",
        "import IPython\n",
        "from openai.embeddings_utils import get_embedding\n",
        "from google.colab import drive\n",
        "from langchain.prompts.prompt import PromptTemplate"
      ],
      "metadata": {
        "id": "ZRF9jcuCYdBx"
      },
      "execution_count": 45,
      "outputs": []
    },
    {
      "cell_type": "markdown",
      "source": [
        "# Setup OpenAI API keys\n",
        "\n",
        "This is an one-time setup. Create a file called `openai.csv` and put it at the root folder of the Google Drive. The file should contains exact two rows. The first row should be the API key and the second row should be the organization key.\n",
        "\n",
        "```\n",
        "sk-...\n",
        "org-...\n",
        "```\n",
        "\n",
        "Create a new API Key in [openai website](https://platform.openai.com/account/api-keys) and find the organization key [here](https://platform.openai.com/account/org-settings)."
      ],
      "metadata": {
        "id": "8HDpQdnVkhrc"
      }
    },
    {
      "cell_type": "code",
      "source": [
        "if not os.path.exists('/content/drive'):\n",
        "  drive.mount('/content/drive')\n",
        "api_key = pd.read_csv(\"/content/drive/MyDrive/openai.csv\", header=None)\n",
        "openai.api_key = api_key.values[0][0]\n",
        "openai.organization = api_key.values[1][0]"
      ],
      "metadata": {
        "id": "kYuSJmnwmuTy"
      },
      "execution_count": 46,
      "outputs": []
    },
    {
      "cell_type": "code",
      "source": [
        "_PROMPT_TEMPLATE = \"\"\"You are GPT-3, and you can't do math.\n",
        "\n",
        "You can do basic math, and your memorization abilities are impressive, but you can't do any complex calculations that a human could not do in their head. You also have an annoying tendency to just make up highly specific, but wrong, answers.\n",
        "\n",
        "So we hooked you up to a Python 3 kernel, and now you can execute code. If you execute code, you must print out the final answer using the print function. You MUST use the python package numpy to answer your question. You must import numpy as np.\n",
        "\n",
        "\n",
        "Question: \n",
        "{{Code that prints what you need to know}}\n",
        "print(\n",
        "{{Output of your code}}\n",
        "```\n",
        "Answer: ${{Answer}}\n",
        "\n",
        "Begin.\n",
        "\n",
        "Question: What is 37593 * 67?\n",
        "\n",
        "```python\n",
        "import numpy as np\n",
        "print(np.multiply(37593, 67))\n",
        "```\n",
        "```output\n",
        "2518731\n",
        "```\n",
        "Answer: 2518731\n",
        "\n",
        "Question: {question}\"\"\"\n",
        "\n",
        "PROMPT = PromptTemplate(input_variables=[\"question\"], template=_PROMPT_TEMPLATE)"
      ],
      "metadata": {
        "id": "OAJXdCndzT2O"
      },
      "execution_count": 47,
      "outputs": []
    },
    {
      "cell_type": "code",
      "source": [
        "llm = OpenAI(temperature=0, openai_api_key=api_key.values[0][0])\n",
        "llm_math = LLMMathChain(llm=llm, prompt=PROMPT, verbose=True)\n",
        "\n",
        "llm_math.run(\"What is 13 raised to the .3432 power?\")"
      ],
      "metadata": {
        "colab": {
          "base_uri": "https://localhost:8080/",
          "height": 261
        },
        "id": "GtYIUrvOzg5K",
        "outputId": "6b7049be-2e93-42d9-a157-6a9f1f8b9667"
      },
      "execution_count": 48,
      "outputs": [
        {
          "output_type": "stream",
          "name": "stdout",
          "text": [
            "\n",
            "\n",
            "\u001b[1m> Entering new LLMMathChain chain...\u001b[0m\n",
            "What is 13 raised to the .3432 power?\u001b[32;1m\u001b[1;3m\n",
            "\n",
            "```python\n",
            "import numpy as np\n",
            "print(np.power(13, .3432))\n",
            "```\n",
            "\u001b[0m\n",
            "Answer: \u001b[33;1m\u001b[1;3m2.4116004626599237\n",
            "\u001b[0m\n",
            "\u001b[1m> Finished chain.\u001b[0m\n"
          ]
        },
        {
          "output_type": "execute_result",
          "data": {
            "text/plain": [
              "'Answer: 2.4116004626599237\\n'"
            ],
            "application/vnd.google.colaboratory.intrinsic+json": {
              "type": "string"
            }
          },
          "metadata": {},
          "execution_count": 48
        }
      ]
    }
  ]
}