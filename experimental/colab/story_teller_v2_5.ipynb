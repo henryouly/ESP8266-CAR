{
  "nbformat": 4,
  "nbformat_minor": 0,
  "metadata": {
    "colab": {
      "provenance": [],
      "collapsed_sections": [
        "AuJ4RgggVMhW"
      ],
      "authorship_tag": "ABX9TyPzjBtPPo6KtllfyVPjCeso",
      "include_colab_link": true
    },
    "kernelspec": {
      "name": "python3",
      "display_name": "Python 3"
    },
    "language_info": {
      "name": "python"
    }
  },
  "cells": [
    {
      "cell_type": "markdown",
      "metadata": {
        "id": "view-in-github",
        "colab_type": "text"
      },
      "source": [
        "<a href=\"https://colab.research.google.com/github/henryouly/ESP8266-CAR/blob/master/experimental/colab/story_teller_v2_5.ipynb\" target=\"_parent\"><img src=\"https://colab.research.google.com/assets/colab-badge.svg\" alt=\"Open In Colab\"/></a>"
      ]
    },
    {
      "cell_type": "markdown",
      "source": [
        "# Preparation"
      ],
      "metadata": {
        "id": "AuJ4RgggVMhW"
      }
    },
    {
      "cell_type": "code",
      "execution_count": 61,
      "metadata": {
        "id": "n6GoI4FCzn4F"
      },
      "outputs": [],
      "source": [
        "# @title Install dependencies\n",
        "\n",
        "!pip install -qU langgraph langchain langchain_openai langchain_anthropic langchainhub python-dotenv"
      ]
    },
    {
      "cell_type": "code",
      "source": [
        "# @title Imports\n",
        "\n",
        "import os\n",
        "import openai\n",
        "import numpy as np\n",
        "import pandas as pd\n",
        "import dotenv\n",
        "\n",
        "from langchain import hub, PromptTemplate\n",
        "from langchain.agents import initialize_agent, Tool\n",
        "from langchain.agents import AgentType\n",
        "from langchain_openai import ChatOpenAI, OpenAI\n",
        "from langchain.prompts import MessagesPlaceholder\n",
        "from langchain.memory import ConversationSummaryBufferMemory\n",
        "from langchain.text_splitter import RecursiveCharacterTextSplitter\n",
        "from langchain.chains.summarize import load_summarize_chain\n",
        "from langchain.chains.openai_functions import create_structured_output_runnable, create_openai_fn_runnable\n",
        "from langchain_core.prompts import ChatPromptTemplate\n",
        "from langchain.tools import BaseTool\n",
        "from langchain_community.tools.tavily_search import TavilySearchResults\n",
        "from langchain.agents import create_openai_functions_agent\n",
        "from langgraph.prebuilt import create_agent_executor\n",
        "\n",
        "from pydantic import BaseModel, Field\n",
        "from typing import Type\n",
        "from bs4 import BeautifulSoup\n",
        "import requests\n",
        "import json\n",
        "from langchain.schema import SystemMessage\n",
        "\n",
        "from langchain_core.pydantic_v1 import BaseModel, Field\n",
        "from typing import List, Tuple, Annotated, TypedDict, Optional\n",
        "import operator\n"
      ],
      "metadata": {
        "id": "Ji3saoue129M",
        "cellView": "form"
      },
      "execution_count": 62,
      "outputs": []
    },
    {
      "cell_type": "code",
      "source": [
        "# @title Read API keys from colab secrets\n",
        "\n",
        "from google.colab import userdata\n",
        "for key in ['LANGCHAIN_API_KEY', 'ANTHROPIC_API_KEY', 'OPENAI_API_KEY']:\n",
        "  os.environ[key] = userdata.get(key)\n"
      ],
      "metadata": {
        "id": "6tVXAGU3Ggqo",
        "cellView": "form"
      },
      "execution_count": 63,
      "outputs": []
    },
    {
      "cell_type": "code",
      "source": [
        "# @title Setup LangSmith\n",
        "os.environ['LANGCHAIN_TRACING_V2'] = 'true'\n",
        "os.environ['LANGCHAIN_ENDPOINT'] = 'https://api.smith.langchain.com'\n",
        "os.environ['LANGCHAIN_PROJECT'] = 'story_teller'"
      ],
      "metadata": {
        "id": "8WGObzwwM8Xe"
      },
      "execution_count": 64,
      "outputs": []
    },
    {
      "cell_type": "markdown",
      "source": [
        "# Config"
      ],
      "metadata": {
        "id": "rxA-PSWqVUjy"
      }
    },
    {
      "cell_type": "code",
      "source": [
        "MAX_TITLE_LENGTH = 50 # @param {\"type\": \"integer\"}\n",
        "MAX_SCRIPT_LENGTH = 2000 # @param {\"type\": \"integer\"}\n",
        "MAX_ABSTRACT_LENGTH = 400 # @param {\"type\": \"integer\"}\n",
        "MAX_CHARACTERS = 5 # @param {\"type\": \"integer\"}"
      ],
      "metadata": {
        "id": "-C59lAUXKJeP",
        "cellView": "form"
      },
      "execution_count": 43,
      "outputs": []
    },
    {
      "cell_type": "code",
      "source": [
        "# @title idea_to_script_prompt (unmodified)\n",
        "\n",
        "INSTRUCTION_IDEA_TO_SCRIPT = '''\n",
        "You're a professional writer. Your task is to create a narrative text based on\n",
        "an idea, outline, or reference story, news, fact, data, etc. The narrative text\n",
        "can be used to tell a short story, produce a comic strip, a short film, or a\n",
        "slideshow.\n",
        "\n",
        "Please think step-by-step.\n",
        "\n",
        "Step 1: Please identify the type of the content: story or non-story.\n",
        "\n",
        "Step 2: Use your greatest creativity to write a narrative text no longer than\n",
        "{max_script_length} Unicode characters, in {output_language}. Please use a\n",
        "\"{tone}\" writing style.\n",
        "\n",
        "For story content, you need to carefully design characters with distinctive\n",
        "personalities (can be human, animals, anthropomorphic characters, etc.), and\n",
        "design the most attractive plot (refer to the common screenwriting techniques\n",
        "such as suspense, twists, reversals, reverse order, coincidence, etc.).\n",
        "\n",
        "For non-story content, usually you don't have to consider the characters, but\n",
        "rather how to explain the product, knowledge, process, information, reasoning,\n",
        "etc. more clearly, accurately, completely and persuasively.\n",
        "\n",
        "Step 3: Make sure your text is not too simple, not boring, not empty or not too\n",
        "short. Do NOT format the text, do NOT make lines or paragraphs, do NOT include\n",
        "any special characters. Title is optional.\n",
        "\n",
        "Step 4: make sure your narrative text is in {output_language}. If not, translate\n",
        "it into {output_language}.\n",
        "\n",
        "'''\n",
        "\n",
        "idea_to_script_prompt = ChatPromptTemplate.from_messages([(\"system\", INSTRUCTION_IDEA_TO_SCRIPT), (\"user\", \"\"\"{user_input}\"\"\")])"
      ],
      "metadata": {
        "id": "5IuAIsv4a9xX"
      },
      "execution_count": 44,
      "outputs": []
    },
    {
      "cell_type": "code",
      "source": [
        "# @title idea_to_script_prompt_v2\n",
        "\n",
        "system = (\n",
        "    \"\"\"\n",
        "    You're a professional writer. Your task is to create a narrative text based on\n",
        "    an idea, outline, or reference story, news, fact, data, etc. The narrative text\n",
        "    can be used to tell a short story, produce a comic strip, a short film, or a\n",
        "    slideshow.\n",
        "\n",
        "    Please follow the below rules to create the narrative.\n",
        "\n",
        "    1/ Please choose one type of the content: story or non-story.\n",
        "\n",
        "    2/ Use your greatest creativity to write a narrative text no longer than\n",
        "    {max_script_length} Unicode characters.\n",
        "\n",
        "    3/ Use a \"{tone}\" writing style.\n",
        "\n",
        "    4/ For story content, you need to carefully design characters with distinctive\n",
        "    personalities (can be human, animals, anthropomorphic characters, etc.), and\n",
        "    design the most attractive plot (refer to the common screenwriting techniques\n",
        "    such as suspense, twists, reversals, reverse order, coincidence, etc.).\n",
        "\n",
        "    5/ For non-story content, usually you don't have to consider the characters, but\n",
        "    rather how to explain the product, knowledge, process, information, reasoning,\n",
        "    etc. more clearly, accurately, completely and persuasively.\n",
        "\n",
        "    6/ Text is not too simple, not boring, not empty or not too\n",
        "    short. Do NOT format the text, do NOT make lines or paragraphs, do NOT include\n",
        "    any special characters. Title is optional.\n",
        "\n",
        "    7/ Make sure your narrative text is in {output_language}. If not, translate\n",
        "    it into {output_language}.\n",
        "    \"\"\"\n",
        ")\n",
        "\n",
        "idea_to_script_prompt_v2 = ChatPromptTemplate.from_messages([(\"system\", system), (\"user\", \"\"\"{user_input}\"\"\")])"
      ],
      "metadata": {
        "id": "EXhzPDDVYj7t"
      },
      "execution_count": 45,
      "outputs": []
    },
    {
      "cell_type": "code",
      "source": [
        "# @title script_to_summary (unmodified)\n",
        "\n",
        "INSTRUCTION_SCRIPT_TO_SUMMARY = '''\n",
        "You're a professional comic book writer. Before creating a comic strip, your\n",
        "first task is to distill the title, the abstract, and the characters of a short\n",
        "story from an existing narrative full text.\n",
        "\n",
        "Regardless of the language of the original text, the title and the abstract must\n",
        "be in {output_language}. And, the language of character's name and description\n",
        "must be in English.\n",
        "\n",
        "Please think step-by-step.\n",
        "\n",
        "Step 1: summarize the story and creates a title and an abstract. The title\n",
        "should not exceed {max_title_length} characters in length. The abstract should\n",
        "not exceed {max_abstract_length} characters in length.\n",
        "\n",
        "Step 2: make sure the title and the abstract are in {output_language}. If not,\n",
        "translate them into {output_language}.\n",
        "\n",
        "Step 3: list single human or humanoid character that appears in the story, give\n",
        "each character a unique English name. You should list no more than\n",
        "{max_characters} characters. If there are too many individuals in the story,\n",
        "keep the most important {max_characters}. If the story tells a fact, a piece of\n",
        "knowledge, or a piece of information and does not mention any human or humanoid\n",
        "characters, then use an empty character list.\n",
        "\n",
        "Good character examples include: \"Alice\", \"Bob\", \"Albert Einstein\", \"Mr. Apple\",\n",
        "\"Dr. Who\", etc.\n",
        "\n",
        "Do not list a group as a character. \"family\", \"parents\", \"group of warriors\",\n",
        "\"the audience\", etc. are not suitable character names.\n",
        "\n",
        "Try to avoid non-humanoid characters. \"stone\", \"car\", \"the earth\", \"machine\n",
        "learning\", etc. are not suitable character names unless they are personified in\n",
        "the story.\n",
        "\n",
        "Step 4: write an accurate, detailed appearance description in English for each\n",
        "character (if there is any), following this template: male/female/unknown\n",
        "gender, era, ethnicity/unknown ethnicity, age, body type, eye size, skin color,\n",
        "hair color, clothing type, clothing color, accessories, other visible features.\n",
        "\n",
        "Good examples of character description include:\n",
        "\n",
        "\"A humanoid elephant, male, 18th century, unknown race, unknown age, tall,\n",
        "strong, small eyes, gray skin, no hair, wearing a white sweatshirt and a blue\n",
        "baseball cap.\"\n",
        "\n",
        "\"Little girl, modern, African American, age 14, short, slightly chubby, big\n",
        "eyes, dark skin, dark hair, wearing a red jacket, blue jeans, and a plaid\n",
        "scarf.\"\n",
        "'''\n",
        "\n",
        "script_to_summary_prompt = ChatPromptTemplate.from_messages([(\"system\", INSTRUCTION_SCRIPT_TO_SUMMARY), (\"user\", \"\"\"{script}\"\"\")])"
      ],
      "metadata": {
        "id": "usmff_rRbvur"
      },
      "execution_count": 46,
      "outputs": []
    },
    {
      "cell_type": "code",
      "source": [
        "df = pd.read_csv('/content/story_teller_test_cases.csv')\n",
        "df"
      ],
      "metadata": {
        "colab": {
          "base_uri": "https://localhost:8080/",
          "height": 304
        },
        "id": "2izDGwb4hGuH",
        "outputId": "732983da-0ebf-4ba0-ec29-d3493129a369"
      },
      "execution_count": 47,
      "outputs": [
        {
          "output_type": "error",
          "ename": "FileNotFoundError",
          "evalue": "[Errno 2] No such file or directory: '/content/story_teller_test_cases.csv'",
          "traceback": [
            "\u001b[0;31m---------------------------------------------------------------------------\u001b[0m",
            "\u001b[0;31mFileNotFoundError\u001b[0m                         Traceback (most recent call last)",
            "\u001b[0;32m<ipython-input-47-c01b91c825dd>\u001b[0m in \u001b[0;36m<cell line: 1>\u001b[0;34m()\u001b[0m\n\u001b[0;32m----> 1\u001b[0;31m \u001b[0mdf\u001b[0m \u001b[0;34m=\u001b[0m \u001b[0mpd\u001b[0m\u001b[0;34m.\u001b[0m\u001b[0mread_csv\u001b[0m\u001b[0;34m(\u001b[0m\u001b[0;34m'/content/story_teller_test_cases.csv'\u001b[0m\u001b[0;34m)\u001b[0m\u001b[0;34m\u001b[0m\u001b[0;34m\u001b[0m\u001b[0m\n\u001b[0m\u001b[1;32m      2\u001b[0m \u001b[0mdf\u001b[0m\u001b[0;34m\u001b[0m\u001b[0;34m\u001b[0m\u001b[0m\n",
            "\u001b[0;32m/usr/local/lib/python3.10/dist-packages/pandas/util/_decorators.py\u001b[0m in \u001b[0;36mwrapper\u001b[0;34m(*args, **kwargs)\u001b[0m\n\u001b[1;32m    209\u001b[0m                 \u001b[0;32melse\u001b[0m\u001b[0;34m:\u001b[0m\u001b[0;34m\u001b[0m\u001b[0;34m\u001b[0m\u001b[0m\n\u001b[1;32m    210\u001b[0m                     \u001b[0mkwargs\u001b[0m\u001b[0;34m[\u001b[0m\u001b[0mnew_arg_name\u001b[0m\u001b[0;34m]\u001b[0m \u001b[0;34m=\u001b[0m \u001b[0mnew_arg_value\u001b[0m\u001b[0;34m\u001b[0m\u001b[0;34m\u001b[0m\u001b[0m\n\u001b[0;32m--> 211\u001b[0;31m             \u001b[0;32mreturn\u001b[0m \u001b[0mfunc\u001b[0m\u001b[0;34m(\u001b[0m\u001b[0;34m*\u001b[0m\u001b[0margs\u001b[0m\u001b[0;34m,\u001b[0m \u001b[0;34m**\u001b[0m\u001b[0mkwargs\u001b[0m\u001b[0;34m)\u001b[0m\u001b[0;34m\u001b[0m\u001b[0;34m\u001b[0m\u001b[0m\n\u001b[0m\u001b[1;32m    212\u001b[0m \u001b[0;34m\u001b[0m\u001b[0m\n\u001b[1;32m    213\u001b[0m         \u001b[0;32mreturn\u001b[0m \u001b[0mcast\u001b[0m\u001b[0;34m(\u001b[0m\u001b[0mF\u001b[0m\u001b[0;34m,\u001b[0m \u001b[0mwrapper\u001b[0m\u001b[0;34m)\u001b[0m\u001b[0;34m\u001b[0m\u001b[0;34m\u001b[0m\u001b[0m\n",
            "\u001b[0;32m/usr/local/lib/python3.10/dist-packages/pandas/util/_decorators.py\u001b[0m in \u001b[0;36mwrapper\u001b[0;34m(*args, **kwargs)\u001b[0m\n\u001b[1;32m    329\u001b[0m                     \u001b[0mstacklevel\u001b[0m\u001b[0;34m=\u001b[0m\u001b[0mfind_stack_level\u001b[0m\u001b[0;34m(\u001b[0m\u001b[0;34m)\u001b[0m\u001b[0;34m,\u001b[0m\u001b[0;34m\u001b[0m\u001b[0;34m\u001b[0m\u001b[0m\n\u001b[1;32m    330\u001b[0m                 )\n\u001b[0;32m--> 331\u001b[0;31m             \u001b[0;32mreturn\u001b[0m \u001b[0mfunc\u001b[0m\u001b[0;34m(\u001b[0m\u001b[0;34m*\u001b[0m\u001b[0margs\u001b[0m\u001b[0;34m,\u001b[0m \u001b[0;34m**\u001b[0m\u001b[0mkwargs\u001b[0m\u001b[0;34m)\u001b[0m\u001b[0;34m\u001b[0m\u001b[0;34m\u001b[0m\u001b[0m\n\u001b[0m\u001b[1;32m    332\u001b[0m \u001b[0;34m\u001b[0m\u001b[0m\n\u001b[1;32m    333\u001b[0m         \u001b[0;31m# error: \"Callable[[VarArg(Any), KwArg(Any)], Any]\" has no\u001b[0m\u001b[0;34m\u001b[0m\u001b[0;34m\u001b[0m\u001b[0m\n",
            "\u001b[0;32m/usr/local/lib/python3.10/dist-packages/pandas/io/parsers/readers.py\u001b[0m in \u001b[0;36mread_csv\u001b[0;34m(filepath_or_buffer, sep, delimiter, header, names, index_col, usecols, squeeze, prefix, mangle_dupe_cols, dtype, engine, converters, true_values, false_values, skipinitialspace, skiprows, skipfooter, nrows, na_values, keep_default_na, na_filter, verbose, skip_blank_lines, parse_dates, infer_datetime_format, keep_date_col, date_parser, dayfirst, cache_dates, iterator, chunksize, compression, thousands, decimal, lineterminator, quotechar, quoting, doublequote, escapechar, comment, encoding, encoding_errors, dialect, error_bad_lines, warn_bad_lines, on_bad_lines, delim_whitespace, low_memory, memory_map, float_precision, storage_options)\u001b[0m\n\u001b[1;32m    948\u001b[0m     \u001b[0mkwds\u001b[0m\u001b[0;34m.\u001b[0m\u001b[0mupdate\u001b[0m\u001b[0;34m(\u001b[0m\u001b[0mkwds_defaults\u001b[0m\u001b[0;34m)\u001b[0m\u001b[0;34m\u001b[0m\u001b[0;34m\u001b[0m\u001b[0m\n\u001b[1;32m    949\u001b[0m \u001b[0;34m\u001b[0m\u001b[0m\n\u001b[0;32m--> 950\u001b[0;31m     \u001b[0;32mreturn\u001b[0m \u001b[0m_read\u001b[0m\u001b[0;34m(\u001b[0m\u001b[0mfilepath_or_buffer\u001b[0m\u001b[0;34m,\u001b[0m \u001b[0mkwds\u001b[0m\u001b[0;34m)\u001b[0m\u001b[0;34m\u001b[0m\u001b[0;34m\u001b[0m\u001b[0m\n\u001b[0m\u001b[1;32m    951\u001b[0m \u001b[0;34m\u001b[0m\u001b[0m\n\u001b[1;32m    952\u001b[0m \u001b[0;34m\u001b[0m\u001b[0m\n",
            "\u001b[0;32m/usr/local/lib/python3.10/dist-packages/pandas/io/parsers/readers.py\u001b[0m in \u001b[0;36m_read\u001b[0;34m(filepath_or_buffer, kwds)\u001b[0m\n\u001b[1;32m    603\u001b[0m \u001b[0;34m\u001b[0m\u001b[0m\n\u001b[1;32m    604\u001b[0m     \u001b[0;31m# Create the parser.\u001b[0m\u001b[0;34m\u001b[0m\u001b[0;34m\u001b[0m\u001b[0m\n\u001b[0;32m--> 605\u001b[0;31m     \u001b[0mparser\u001b[0m \u001b[0;34m=\u001b[0m \u001b[0mTextFileReader\u001b[0m\u001b[0;34m(\u001b[0m\u001b[0mfilepath_or_buffer\u001b[0m\u001b[0;34m,\u001b[0m \u001b[0;34m**\u001b[0m\u001b[0mkwds\u001b[0m\u001b[0;34m)\u001b[0m\u001b[0;34m\u001b[0m\u001b[0;34m\u001b[0m\u001b[0m\n\u001b[0m\u001b[1;32m    606\u001b[0m \u001b[0;34m\u001b[0m\u001b[0m\n\u001b[1;32m    607\u001b[0m     \u001b[0;32mif\u001b[0m \u001b[0mchunksize\u001b[0m \u001b[0;32mor\u001b[0m \u001b[0miterator\u001b[0m\u001b[0;34m:\u001b[0m\u001b[0;34m\u001b[0m\u001b[0;34m\u001b[0m\u001b[0m\n",
            "\u001b[0;32m/usr/local/lib/python3.10/dist-packages/pandas/io/parsers/readers.py\u001b[0m in \u001b[0;36m__init__\u001b[0;34m(self, f, engine, **kwds)\u001b[0m\n\u001b[1;32m   1440\u001b[0m \u001b[0;34m\u001b[0m\u001b[0m\n\u001b[1;32m   1441\u001b[0m         \u001b[0mself\u001b[0m\u001b[0;34m.\u001b[0m\u001b[0mhandles\u001b[0m\u001b[0;34m:\u001b[0m \u001b[0mIOHandles\u001b[0m \u001b[0;34m|\u001b[0m \u001b[0;32mNone\u001b[0m \u001b[0;34m=\u001b[0m \u001b[0;32mNone\u001b[0m\u001b[0;34m\u001b[0m\u001b[0;34m\u001b[0m\u001b[0m\n\u001b[0;32m-> 1442\u001b[0;31m         \u001b[0mself\u001b[0m\u001b[0;34m.\u001b[0m\u001b[0m_engine\u001b[0m \u001b[0;34m=\u001b[0m \u001b[0mself\u001b[0m\u001b[0;34m.\u001b[0m\u001b[0m_make_engine\u001b[0m\u001b[0;34m(\u001b[0m\u001b[0mf\u001b[0m\u001b[0;34m,\u001b[0m \u001b[0mself\u001b[0m\u001b[0;34m.\u001b[0m\u001b[0mengine\u001b[0m\u001b[0;34m)\u001b[0m\u001b[0;34m\u001b[0m\u001b[0;34m\u001b[0m\u001b[0m\n\u001b[0m\u001b[1;32m   1443\u001b[0m \u001b[0;34m\u001b[0m\u001b[0m\n\u001b[1;32m   1444\u001b[0m     \u001b[0;32mdef\u001b[0m \u001b[0mclose\u001b[0m\u001b[0;34m(\u001b[0m\u001b[0mself\u001b[0m\u001b[0;34m)\u001b[0m \u001b[0;34m->\u001b[0m \u001b[0;32mNone\u001b[0m\u001b[0;34m:\u001b[0m\u001b[0;34m\u001b[0m\u001b[0;34m\u001b[0m\u001b[0m\n",
            "\u001b[0;32m/usr/local/lib/python3.10/dist-packages/pandas/io/parsers/readers.py\u001b[0m in \u001b[0;36m_make_engine\u001b[0;34m(self, f, engine)\u001b[0m\n\u001b[1;32m   1733\u001b[0m                 \u001b[0;32mif\u001b[0m \u001b[0;34m\"b\"\u001b[0m \u001b[0;32mnot\u001b[0m \u001b[0;32min\u001b[0m \u001b[0mmode\u001b[0m\u001b[0;34m:\u001b[0m\u001b[0;34m\u001b[0m\u001b[0;34m\u001b[0m\u001b[0m\n\u001b[1;32m   1734\u001b[0m                     \u001b[0mmode\u001b[0m \u001b[0;34m+=\u001b[0m \u001b[0;34m\"b\"\u001b[0m\u001b[0;34m\u001b[0m\u001b[0;34m\u001b[0m\u001b[0m\n\u001b[0;32m-> 1735\u001b[0;31m             self.handles = get_handle(\n\u001b[0m\u001b[1;32m   1736\u001b[0m                 \u001b[0mf\u001b[0m\u001b[0;34m,\u001b[0m\u001b[0;34m\u001b[0m\u001b[0;34m\u001b[0m\u001b[0m\n\u001b[1;32m   1737\u001b[0m                 \u001b[0mmode\u001b[0m\u001b[0;34m,\u001b[0m\u001b[0;34m\u001b[0m\u001b[0;34m\u001b[0m\u001b[0m\n",
            "\u001b[0;32m/usr/local/lib/python3.10/dist-packages/pandas/io/common.py\u001b[0m in \u001b[0;36mget_handle\u001b[0;34m(path_or_buf, mode, encoding, compression, memory_map, is_text, errors, storage_options)\u001b[0m\n\u001b[1;32m    854\u001b[0m         \u001b[0;32mif\u001b[0m \u001b[0mioargs\u001b[0m\u001b[0;34m.\u001b[0m\u001b[0mencoding\u001b[0m \u001b[0;32mand\u001b[0m \u001b[0;34m\"b\"\u001b[0m \u001b[0;32mnot\u001b[0m \u001b[0;32min\u001b[0m \u001b[0mioargs\u001b[0m\u001b[0;34m.\u001b[0m\u001b[0mmode\u001b[0m\u001b[0;34m:\u001b[0m\u001b[0;34m\u001b[0m\u001b[0;34m\u001b[0m\u001b[0m\n\u001b[1;32m    855\u001b[0m             \u001b[0;31m# Encoding\u001b[0m\u001b[0;34m\u001b[0m\u001b[0;34m\u001b[0m\u001b[0m\n\u001b[0;32m--> 856\u001b[0;31m             handle = open(\n\u001b[0m\u001b[1;32m    857\u001b[0m                 \u001b[0mhandle\u001b[0m\u001b[0;34m,\u001b[0m\u001b[0;34m\u001b[0m\u001b[0;34m\u001b[0m\u001b[0m\n\u001b[1;32m    858\u001b[0m                 \u001b[0mioargs\u001b[0m\u001b[0;34m.\u001b[0m\u001b[0mmode\u001b[0m\u001b[0;34m,\u001b[0m\u001b[0;34m\u001b[0m\u001b[0;34m\u001b[0m\u001b[0m\n",
            "\u001b[0;31mFileNotFoundError\u001b[0m: [Errno 2] No such file or directory: '/content/story_teller_test_cases.csv'"
          ]
        }
      ]
    },
    {
      "cell_type": "code",
      "source": [
        "# Models\n",
        "\n",
        "from langchain_anthropic import ChatAnthropic\n",
        "\n",
        "gpt_llm = ChatOpenAI(model=\"gpt-3.5-turbo-16k\", temperature=0)\n",
        "claude_llm = ChatAnthropic(model='claude-3-haiku-20240307')"
      ],
      "metadata": {
        "id": "d9ih27dh8y7s"
      },
      "execution_count": null,
      "outputs": []
    },
    {
      "cell_type": "markdown",
      "source": [
        "# ChatGPT"
      ],
      "metadata": {
        "id": "grKNA3KlVjQ6"
      }
    },
    {
      "cell_type": "code",
      "source": [
        "# @title Idea to script using OpenAI function\n",
        "\n",
        "class Script(BaseModel):\n",
        "    \"\"\"A narrative text of a short story.\"\"\"\n",
        "\n",
        "    title: Optional[str] = Field(None, description=f\"The title of the story, no more than {MAX_TITLE_LENGTH} Unicode characters in length.\")\n",
        "    body: str = Field(..., description=f\"The narrative text of the story, no more than {MAX_SCRIPT_LENGTH} characters in length.\")\n",
        "    story_type: str = Field(..., description=f\"The story type, can be 'story' or 'non-story\")\n",
        "    personality: Optional[str] = Field(None, description=f\"If the type is a story, the designed character's distinctive personality, such as 'human', 'animal', 'anthropomorphic character'\")\n",
        "    plot: Optional[str] = Field(None, description=f\"If the type is a story, the most attractive plot in screenwriting techniques, such as 'suspense', 'twists', 'reversals', 'reverse order', 'coincidence'\")\n",
        "\n",
        "script_writer_runnable = create_openai_fn_runnable(\n",
        "    [Script],\n",
        "    gpt_llm,\n",
        "    idea_to_script_prompt,\n",
        ")\n",
        "\n",
        "# Extract the body field from the Script object\n",
        "script_writer = script_writer_runnable | (lambda x: x.body)\n"
      ],
      "metadata": {
        "id": "3TQMriymHnT-"
      },
      "execution_count": null,
      "outputs": []
    },
    {
      "cell_type": "code",
      "source": [
        "script = script_writer.invoke(\n",
        "    {\"tone\": \"neutral\", \"max_script_length\": MAX_SCRIPT_LENGTH, \"output_language\": \"English\", \"user_input\": \"Can you design an attactive short story about Mr. Apple and Mrs. Banana?\"}\n",
        ")\n",
        "\n",
        "script"
      ],
      "metadata": {
        "id": "oX9_ZmH61M_N",
        "colab": {
          "base_uri": "https://localhost:8080/",
          "height": 104
        },
        "outputId": "dfa0db5a-d7a0-46d8-c8dc-be62cfe5630b"
      },
      "execution_count": null,
      "outputs": [
        {
          "output_type": "execute_result",
          "data": {
            "text/plain": [
              "\"Mr. Apple and Mrs. Banana were neighbors in a small fruit village. They had different personalities - Mr. Apple was sweet and caring, while Mrs. Banana was sassy and independent. Despite their differences, they always found themselves in amusing situations. One day, Mr. Apple decided to organize a surprise party for Mrs. Banana's birthday. He invited all their fruit friends, including Mr. Strawberry, Ms. Pineapple, and Dr. Watermelon. The party was full of laughter and joy, with everyone bringing their favorite fruit dishes. As the night went on, Mr. Apple presented Mrs. Banana with a beautifully wrapped gift. She opened it eagerly to find a pair of sunglasses, which she had always wanted. Mrs. Banana was moved by his thoughtfulness and realized how much Mr. Apple cared for her. From that day on, their friendship blossomed into something more. They became a happy couple, cherishing their love for each other and embracing their differences.\""
            ],
            "application/vnd.google.colaboratory.intrinsic+json": {
              "type": "string"
            }
          },
          "metadata": {},
          "execution_count": 12
        }
      ]
    },
    {
      "cell_type": "code",
      "source": [
        "results = []\n",
        "\n",
        "def process_results():\n",
        "  for i, row in df.iterrows():\n",
        "    print(f\"Processing {row.test_id}\")\n",
        "    results.append(script_writer.invoke({\n",
        "        \"user_input\": row.user_input,\n",
        "        \"output_language\": row.output_language,\n",
        "        \"tone\": row.tone,\n",
        "        \"max_script_length\": MAX_SCRIPT_LENGTH\n",
        "    }))\n",
        "  result_df = pd.DataFrame([result.__dict__ for result in results])\n",
        "  result_df.to_csv('story_teller_results.csv')\n",
        "\n",
        "# process_results()"
      ],
      "metadata": {
        "id": "TT9YiOuN1QfK"
      },
      "execution_count": null,
      "outputs": []
    },
    {
      "cell_type": "code",
      "source": [
        "# @title script to summary\n",
        "\n",
        "class Character(BaseModel):\n",
        "  \"\"\"A set of story character definitions\"\"\"\n",
        "\n",
        "  name: str = Field(..., description=\"The name of the story character.\")\n",
        "  description: str = Field(..., description=\"An accurate, detailed appearance description of the story character.\")\n",
        "\n",
        "class Summary(BaseModel):\n",
        "  \"\"\"Save the title, the abstract and the character definitions of the story.\"\"\"\n",
        "\n",
        "  title: str = Field(None, description=f\"The title of the story, no more than {MAX_TITLE_LENGTH} Unicode characters in length.\")\n",
        "  abstract: str = Field(..., description=f\"The abstract of the story, no more than {MAX_ABSTRACT_LENGTH} Unicode characters in length.\")\n",
        "  characters: list[Character] = Field(..., description=f\"A set of story character definitions, no more than {MAX_CHARACTERS} story characters.\")\n",
        "\n",
        "generate_summary = create_openai_fn_runnable(\n",
        "    [Summary],\n",
        "    llm,\n",
        "    script_to_summary_prompt,\n",
        ")\n",
        "\n",
        "summary = generate_summary.invoke(\n",
        "    {\"max_title_length\": MAX_TITLE_LENGTH, \"max_abstract_length\": MAX_ABSTRACT_LENGTH, \"max_characters\": MAX_CHARACTERS, \"output_language\": \"English\", \"script\": script.body}\n",
        ")\n",
        "\n",
        "summary\n"
      ],
      "metadata": {
        "colab": {
          "base_uri": "https://localhost:8080/"
        },
        "id": "RHwzBedlb-cc",
        "outputId": "a145b56e-a074-48ac-b854-ebe775361764"
      },
      "execution_count": null,
      "outputs": [
        {
          "output_type": "execute_result",
          "data": {
            "text/plain": [
              "Summary(title=None, abstract='Mr. Apple and Mrs. Banana, two fruits with contrasting personalities, form a deep friendship in a fruit market. Together, they inspire unity and resilience in the face of adversity, spreading joy and love wherever they go.', characters=[Character(name='Mr. Apple', description='Male, unknown era, unknown ethnicity, cheerful and optimistic, always has a smile on his face, loves making people laugh'), Character(name='Mrs. Banana', description='Female, unknown era, unknown ethnicity, shy and reserved, loves spending time alone, reading books, and dreaming about adventures')])"
            ]
          },
          "metadata": {},
          "execution_count": 66
        }
      ]
    },
    {
      "cell_type": "markdown",
      "source": [
        "# Claude 3 (Kaiku)"
      ],
      "metadata": {
        "id": "8kVdI3GBYC2X"
      }
    },
    {
      "cell_type": "code",
      "source": [
        "# @title idea_to_script_prompt v2\n",
        "\n",
        "system = (\"\"\"\n",
        "    You're a professional writer. Your task is to create a narrative text based on\n",
        "    an idea, outline, or reference story, news, fact, data, etc. The narrative text\n",
        "    can be used to tell a short story, produce a comic strip, a short film, or a\n",
        "    slideshow.\n",
        "\n",
        "    Please follow the below rules to create the narrative.\n",
        "\n",
        "    1/ Please choose one type of the content: story or non-story.\n",
        "\n",
        "    2/ Use your greatest creativity to write a narrative text no longer than\n",
        "    {max_script_length} Unicode characters.\n",
        "\n",
        "    3/ Use a \"{tone}\" writing style.\n",
        "\n",
        "    4/ The language of the narrative text must be in {output_language}.\n",
        "\n",
        "    5/ For story content, you need to carefully design characters with distinctive\n",
        "    personalities (can be human, animals, anthropomorphic characters, etc.), and\n",
        "    design the most attractive plot (refer to the common screenwriting techniques\n",
        "    such as suspense, twists, reversals, reverse order, coincidence, etc.).\n",
        "\n",
        "    6/ For non-story content, usually you don't have to consider the characters, but\n",
        "    rather how to explain the product, knowledge, process, information, reasoning,\n",
        "    etc. more clearly, accurately, completely and persuasively.\n",
        "\n",
        "    7/ Text is not too simple, not boring, not empty or not too short.\n",
        "\n",
        "    8/ Do NOT format the text, do NOT make lines or paragraphs, do NOT include\n",
        "    any special characters.\n",
        "\n",
        "    9/ Skip the preamble and provide only the narrative text.\n",
        "\n",
        "    10/ Finally, call the function save_script with the final text. Call the function once and only once.\n",
        "    \"\"\"\n",
        ")\n",
        "\n",
        "tools = (\"\"\"\n",
        "    In this environment you have access to a set of tools you can use to answer the user's question.\n",
        "\n",
        "    You may call them like this:\n",
        "    <function_calls>\n",
        "    <invoke>\n",
        "    <tool_name>$TOOL_NAME</tool_name>\n",
        "    <parameters>\n",
        "    <$PARAMETER_NAME>$PARAMETER_VALUE</$PARAMETER_NAME>\n",
        "    ...\n",
        "    </parameters>\n",
        "    </invoke>\n",
        "    </function_calls>\n",
        "\n",
        "    Here are the tools available:\n",
        "    <tools>\n",
        "    <tool_description>\n",
        "    <tool_name>save_script</tool_name>\n",
        "    <description>Saves a narrative text of a short story.</description>\n",
        "    <parameters>\n",
        "    <parameter>\n",
        "    <name>title</name>\n",
        "    <type>string</type>\n",
        "    <description>The title of the story.</description>\n",
        "    </parameter>\n",
        "    <parameter>\n",
        "    <name>body</name>\n",
        "    <type>string</type>\n",
        "    <description>The narrative text of the story.</description>\n",
        "    </parameter>\n",
        "    </parameters>\n",
        "    </tool_description>\n",
        "    \"\"\"\n",
        ")\n",
        "\n",
        "idea_to_script_prompt_claude = ChatPromptTemplate.from_messages([(\"system\", system + tools), (\"user\", \"\"\"{user_input}\"\"\")])"
      ],
      "metadata": {
        "id": "5TMb38gCVnkl"
      },
      "execution_count": null,
      "outputs": []
    },
    {
      "cell_type": "code",
      "source": [
        "# @title idea_to_script_prompt v2\n",
        "#\n",
        "# This new prompt looks working better for\n",
        "# 1. Enforcing the output language\n",
        "# 2. Encourage the function call at the end.\n",
        "\n",
        "system = (\"\"\"\n",
        "    You're a professional writer. Your task is to create a narrative text based on\n",
        "    an idea, outline, or reference story, news, fact, data, etc. The narrative text\n",
        "    can be used to tell a short story, produce a comic strip, a short film, or a\n",
        "    slideshow.\n",
        "\n",
        "    Please follow the below rules to create the narrative.\n",
        "\n",
        "    2/ Use your greatest creativity to write a narrative text no longer than\n",
        "    {max_script_length} Unicode characters.\n",
        "\n",
        "    3/ The writing style and tone of the narrative must be \"{tone}\".\n",
        "\n",
        "    4/ Your output must be in {output_language}.\n",
        "\n",
        "    5/ Text is not too simple, not boring, not empty or not too short.\n",
        "\n",
        "    Please follow the below steps to create the narrative.\n",
        "\n",
        "    Firstly, choose one type of the content: story or non-story.\n",
        "\n",
        "    For story content, you need to carefully design characters with distinctive\n",
        "    personalities (can be human, animals, anthropomorphic characters, etc.), and\n",
        "    design the most attractive plot (refer to the common screenwriting techniques\n",
        "    such as suspense, twists, reversals, reverse order, coincidence, etc.).\n",
        "\n",
        "    For non-story content, usually you don't have to consider the characters, but\n",
        "    rather how to explain the product, knowledge, process, information, reasoning,\n",
        "    etc. more clearly, accurately, completely and persuasively.\n",
        "\n",
        "    Finally, call the function save_script with the final text. Call the function once and only once.\n",
        "    \"\"\"\n",
        ")\n",
        "\n",
        "tools = (\"\"\"\n",
        "    In this environment you have access to a set of tools you can use to answer the user's question.\n",
        "\n",
        "    You may call them like this:\n",
        "    <function_calls>\n",
        "    <invoke>\n",
        "    <tool_name>$TOOL_NAME</tool_name>\n",
        "    <parameters>\n",
        "    <$PARAMETER_NAME>$PARAMETER_VALUE</$PARAMETER_NAME>\n",
        "    ...\n",
        "    </parameters>\n",
        "    </invoke>\n",
        "    </function_calls>\n",
        "\n",
        "    Here are the tools available:\n",
        "    <tools>\n",
        "    <tool_description>\n",
        "    <tool_name>save_script</tool_name>\n",
        "    <description>Saves a narrative text of a short story.</description>\n",
        "    <parameters>\n",
        "    <parameter>\n",
        "    <name>title</name>\n",
        "    <type>string</type>\n",
        "    <description>The title of the story.</description>\n",
        "    </parameter>\n",
        "    <parameter>\n",
        "    <name>body</name>\n",
        "    <type>string</type>\n",
        "    <description>The narrative text of the story.</description>\n",
        "    </parameter>\n",
        "    </parameters>\n",
        "    </tool_description>\n",
        "    \"\"\"\n",
        ")\n",
        "\n",
        "idea_to_script_prompt_claude = ChatPromptTemplate.from_messages([(\"system\", system + tools), (\"user\", \"\"\"{user_input}\"\"\")])"
      ],
      "metadata": {
        "id": "Fz-RB2OqGN2C"
      },
      "execution_count": null,
      "outputs": []
    },
    {
      "cell_type": "code",
      "source": [
        "# @title idea_to_script_prompt v3\n",
        "#\n",
        "# This new prompt looks working better for\n",
        "# 1. Use XML tags to specify input and gauge the output.\n",
        "# 2. Improvement to the language\n",
        "#\n",
        "# Reference:\n",
        "# https://docs.anthropic.com/claude/docs/use-xml-tags\n",
        "# https://docs.anthropic.com/claude/docs/let-claude-think\n",
        "\n",
        "system = (\"\"\"\n",
        "    You're a professional writer. Your task is to create a narrative text based on\n",
        "    an idea, outline, or reference story, news, fact, data, etc. The narrative text\n",
        "    can be used to tell a short story, produce a comic strip, a short film, or a\n",
        "    slideshow.\n",
        "\n",
        "    Please follow the below rules to create the narrative.\n",
        "\n",
        "    1. The narrative text must be no longer than {max_script_length} Unicode characters.\n",
        "    2. The writing style and tone of the narrative must be \"{tone}\".\n",
        "    3. Your output must be in {output_language}.\n",
        "    4. Be creative.\n",
        "    5. Text is not too simple, not boring, not empty or not too short.\n",
        "\n",
        "    To create the narrative, use the below procedure below.\n",
        "\n",
        "    Firstly, choose one type of the content: story or non-story.\n",
        "\n",
        "    For story content, you need to carefully design characters with distinctive\n",
        "    personalities (can be human, animals, anthropomorphic characters, etc.), and\n",
        "    design the most attractive plot (refer to the common screenwriting techniques\n",
        "    such as suspense, twists, reversals, reverse order, coincidence, etc.).\n",
        "\n",
        "    For non-story content, usually you don't have to consider the characters, but\n",
        "    rather how to explain the product, knowledge, process, information, reasoning,\n",
        "    etc. more clearly, accurately, completely and persuasively.\n",
        "\n",
        "    Use the below output format:\n",
        "\n",
        "    <narrative>\n",
        "    <title>\n",
        "    {{TITLE OF THE NARRATIVE}}\n",
        "    </title>\n",
        "\n",
        "    <body>\n",
        "    {{BODY OF THE NARRATIVE}}\n",
        "    </body>\n",
        "    </narrative>\n",
        "    \"\"\"\n",
        ")\n",
        "\n",
        "idea_to_script_prompt_claude = ChatPromptTemplate.from_messages([(\"system\", system), (\"user\", \"\"\"{user_input}\"\"\")])"
      ],
      "metadata": {
        "id": "pnoXhBAUcCDk"
      },
      "execution_count": 48,
      "outputs": []
    },
    {
      "cell_type": "code",
      "source": [
        "import re\n",
        "\n",
        "def extract_between_tags(tag, string, strip=False):\n",
        "    ext_list = re.findall(f\"<{tag}>(.+?)</{tag}>\", string, re.DOTALL)\n",
        "    return [e.strip() for e in ext_list] if strip else ext_list\n"
      ],
      "metadata": {
        "id": "gE82Oqxcgys4"
      },
      "execution_count": 49,
      "outputs": []
    },
    {
      "cell_type": "code",
      "source": [
        "script_writer_claude = idea_to_script_prompt_claude | claude_llm | (lambda x: extract_between_tags(\"body\", x.content, True)[0])"
      ],
      "metadata": {
        "id": "-shFUU5dVEJ_"
      },
      "execution_count": 50,
      "outputs": []
    },
    {
      "cell_type": "code",
      "source": [
        "script_text = script_writer_claude.invoke(\n",
        "    {\n",
        "        \"tone\": \"neutral\",\n",
        "        \"max_script_length\": MAX_SCRIPT_LENGTH,\n",
        "        \"output_language\": \"English\",\n",
        "        \"user_input\": \"Can you design an attactive short story about Mr. Apple and Mrs. Banana?\"\n",
        "    }\n",
        ")"
      ],
      "metadata": {
        "id": "OGGrecCFY5-_"
      },
      "execution_count": 51,
      "outputs": []
    },
    {
      "cell_type": "code",
      "source": [
        "script_text = script_writer_claude.invoke(\n",
        "    {\n",
        "        \"tone\": \"Children's\",\n",
        "        \"max_script_length\": MAX_SCRIPT_LENGTH,\n",
        "        \"output_language\": \"English\",\n",
        "        \"user_input\": \"请写一个专⻔帮助英语不好的孩子学英语的小故事,这个小故事里使用的词汇特别简单,并且,这个小故事的文本很好地展示了英文单词 take 在不同情境下的不同用法。\"\n",
        "    }\n",
        ")"
      ],
      "metadata": {
        "id": "VduzwZhhFVWa"
      },
      "execution_count": 53,
      "outputs": []
    },
    {
      "cell_type": "code",
      "source": [
        "from IPython.display import Markdown\n",
        "\n",
        "Markdown(script_text)"
      ],
      "metadata": {
        "colab": {
          "base_uri": "https://localhost:8080/",
          "height": 251
        },
        "id": "Ab0niK6YU4NU",
        "outputId": "dd830c35-b867-4ffd-d343-c05078c6f849"
      },
      "execution_count": 54,
      "outputs": [
        {
          "output_type": "execute_result",
          "data": {
            "text/plain": [
              "<IPython.core.display.Markdown object>"
            ],
            "text/markdown": "Tom was a young boy who loved to learn new things. But he had a hard time learning English. The words were so strange and hard to remember!\n\nOne day, Tom's mom said, \"Tom, it's time to take a break from your English homework. Let's go outside and take a walk.\"\n\nTom was happy to take a break. He took his mom's hand and they went outside. As they walked, Tom saw a bird take flight and fly high in the sky.\n\n\"Wow, look at that bird take off!\" said Tom. \"I wish I could take English lessons and learn to speak it well like that bird takes to the sky.\"\n\nHis mom smiled and said, \"Don't worry, Tom. With practice, you'll take to English just like that bird. It just takes time and effort.\"\n\nWhen they got home, Tom sat down to take another look at his English workbook. This time, the words didn't seem so scary. He took his pencil and started practicing writing the new words.\n\nFrom that day on, Tom took English more seriously. He took his time and practiced every day. Slowly but surely, he started to take in the new words and phrases.\n\nOne day, his teacher said, \"Tom, you've really taken to English! I'm so proud of the progress you've made.\"\n\nTom smiled, happy that he had taken the time to learn. He knew that with hard work, he could take on any challenge, even learning a new language."
          },
          "metadata": {},
          "execution_count": 54
        }
      ]
    },
    {
      "cell_type": "markdown",
      "source": [
        "# Eval using langsmith API without scoring"
      ],
      "metadata": {
        "id": "cgqakn3vDYXn"
      }
    },
    {
      "cell_type": "code",
      "source": [
        "os.environ['LANGCHAIN_PROJECT'] = 'story_teller_eval'"
      ],
      "metadata": {
        "id": "2C4zYICZDndD"
      },
      "execution_count": 26,
      "outputs": []
    },
    {
      "cell_type": "code",
      "source": [
        "# @title Eval Config\n",
        "\n",
        "EVAL_MODEL = \"claude-3-haiku-20240307\" # @param [\"gpt-3.5-turbo-16k\", \"claude-3-haiku-20240307\"] {type:\"string\"}\n",
        "EVAL_DATASET = \"story_teller_test_v1_0314\" # @param [\"script_writer_single_test_joke\", \"story_teller_test_v1_0314\"]\n",
        "\n",
        "_eval_model_chain = script_writer if EVAL_MODEL == \"gpt-3.5-turbo-16k\" else script_writer_claude\n",
        "_eval_concurrency_level = 5 if EVAL_MODEL == \"gpt-3.5-turbo-16k\" else 3"
      ],
      "metadata": {
        "id": "VDZtGsqv-JXF"
      },
      "execution_count": 59,
      "outputs": []
    },
    {
      "cell_type": "code",
      "source": [
        "import langsmith\n",
        "from langchain import chat_models, prompts\n",
        "from langchain.schema import output_parser\n",
        "\n",
        "import datetime\n",
        "uid = datetime.datetime.now().strftime('%Y%m%d%H%M%S')\n",
        "\n",
        "\n",
        "client = langsmith.Client()\n",
        "chain_results = client.run_on_dataset(\n",
        "    dataset_name=EVAL_DATASET,\n",
        "    llm_or_chain_factory=_eval_model_chain,\n",
        "    project_name=f\"{EVAL_MODEL}_{uid}\",\n",
        "    concurrency_level=_eval_concurrency_level,\n",
        "    verbose=True,\n",
        ")"
      ],
      "metadata": {
        "id": "SjrzYBnND2OV",
        "colab": {
          "base_uri": "https://localhost:8080/"
        },
        "outputId": "0be9e5e9-602d-4433-a77c-6ee8d2c58220"
      },
      "execution_count": 60,
      "outputs": [
        {
          "output_type": "stream",
          "name": "stdout",
          "text": [
            "View the evaluation results for project 'claude-3-haiku-20240307_20240320030048' at:\n",
            "https://smith.langchain.com/o/7ba29406-b38b-5407-bd7b-dbefcd2e2fa3/datasets/30870756-6b25-4aa2-9ae3-1ccacfb1f263/compare?selectedSessions=400f8aa4-40e6-4021-b632-b771479b6d05\n",
            "\n",
            "View all tests for Dataset story_teller_test_v1_0314 at:\n",
            "https://smith.langchain.com/o/7ba29406-b38b-5407-bd7b-dbefcd2e2fa3/datasets/30870756-6b25-4aa2-9ae3-1ccacfb1f263\n",
            "[------------------------------------------------->] 13/13\n",
            " Experiment Results:\n",
            "       error  execution_time                                run_id\n",
            "count      0           13.00                                    13\n",
            "unique     0             NaN                                    13\n",
            "top      NaN             NaN  18b45e91-5eb9-48a9-993f-18bfd6c41a2a\n",
            "freq     NaN             NaN                                     1\n",
            "mean     NaN           13.82                                   NaN\n",
            "std      NaN           13.30                                   NaN\n",
            "min      NaN            4.59                                   NaN\n",
            "25%      NaN            5.52                                   NaN\n",
            "50%      NaN            9.56                                   NaN\n",
            "75%      NaN           11.65                                   NaN\n",
            "max      NaN           42.99                                   NaN\n"
          ]
        }
      ]
    },
    {
      "cell_type": "code",
      "source": [],
      "metadata": {
        "id": "YXVPWFk1eiBq"
      },
      "execution_count": null,
      "outputs": []
    }
  ]
}